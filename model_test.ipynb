{
 "cells": [
  {
   "cell_type": "code",
   "execution_count": 42,
   "metadata": {},
   "outputs": [
    {
     "name": "stdout",
     "output_type": "stream",
     "text": [
      "(27, 160, 320, 3)\n",
      "[ 0.   0.2 -0.2  0.   0.2 -0.2  0.   0.2 -0.2  0.   0.2 -0.2  0.   0.2 -0.2\n",
      "  0.   0.2 -0.2  0.   0.2 -0.2  0.   0.2 -0.2  0.   0.2 -0.2]\n"
     ]
    }
   ],
   "source": [
    "import csv\n",
    "import cv2\n",
    "import numpy as np\n",
    "\n",
    "# read the driving log file\n",
    "lines = []\n",
    "with open('data/driving_log.csv') as csvfile:\n",
    "    reader=csv.reader(csvfile)\n",
    "    for line in reader:\n",
    "        lines.append(line)\n",
    "        \n",
    "# pop out the first row in the csv file\n",
    "lines.pop(0)\n",
    "\n",
    "# get the images and steering values\n",
    "center_images = []\n",
    "left_images = []\n",
    "right_images = []\n",
    "cam_images = []\n",
    "steering_angles = []\n",
    "for line in lines:\n",
    "    # get the file path\n",
    "    center_source_path = line[0]\n",
    "    left_source_path = line[1]\n",
    "    right_source_path = line[2]\n",
    "    steering_angle = float(line[3])\n",
    "    # get the images\n",
    "    center_filename = center_source_path.split('/')[-1]\n",
    "    left_filename = left_source_path.split('/')[-1]\n",
    "    right_filename = right_source_path.split('/')[-1]\n",
    "    center_current_path = 'data/IMG/'+ center_filename\n",
    "    left_current_path = 'data/IMG/'+ left_filename\n",
    "    right_current_path = 'data/IMG/'+ right_filename\n",
    "    center_image = cv2.imread(center_current_path)\n",
    "    left_image = cv2.imread(left_current_path)\n",
    "    right_image = cv2.imread(right_current_path)\n",
    "    center_images.append(center_image)\n",
    "    left_images.append(left_image)\n",
    "    right_images.append(right_image)\n",
    "    cam_images.extend([center_image, left_image, right_image])\n",
    "    # get the steering values\n",
    "    correction = 0.2\n",
    "    steering_angles.extend([steering_angle, steering_angle+correction, steering_angle-correction])\n",
    "    \n",
    "    \n",
    "X_train = np.array(cam_images)\n",
    "y_train = np.array(steering_angles)\n",
    "\n",
    "print(X_train.shape)\n",
    "print(y_train)"
   ]
  },
  {
   "cell_type": "code",
   "execution_count": null,
   "metadata": {
    "scrolled": true
   },
   "outputs": [],
   "source": [
    "# Model\n",
    "\n",
    "import tensorflow as tf\n",
    "tf.python.control_flow_ops = tf\n",
    "# Initial Setup for Keras\n",
    "from keras.models import Sequential\n",
    "from keras.layers.core import Dense, Activation, Flatten\n",
    "\n",
    "\n",
    "\n",
    "\n"
   ]
  },
  {
   "cell_type": "code",
   "execution_count": null,
   "metadata": {
    "collapsed": true
   },
   "outputs": [],
   "source": []
  }
 ],
 "metadata": {
  "kernelspec": {
   "display_name": "Python 3",
   "language": "python",
   "name": "python3"
  },
  "language_info": {
   "codemirror_mode": {
    "name": "ipython",
    "version": 3
   },
   "file_extension": ".py",
   "mimetype": "text/x-python",
   "name": "python",
   "nbconvert_exporter": "python",
   "pygments_lexer": "ipython3",
   "version": "3.5.2"
  },
  "widgets": {
   "state": {},
   "version": "1.1.2"
  }
 },
 "nbformat": 4,
 "nbformat_minor": 2
}
