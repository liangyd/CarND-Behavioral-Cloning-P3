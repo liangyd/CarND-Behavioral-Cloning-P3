{
 "cells": [
  {
   "cell_type": "code",
   "execution_count": null,
   "metadata": {
    "collapsed": true
   },
   "outputs": [],
   "source": [
    "import csv\n",
    "import cv2\n",
    "import numpy as np\n",
    "\n",
    "# read the driving log file\n",
    "lines = []\n",
    "with open('data/driving_log.csv') as csvfile:\n",
    "    reader=csv.reader(csvfile)\n",
    "    for line in reader:\n",
    "        lines.append(line)\n",
    "        \n",
    "# pop out the first row in the csv file\n",
    "lines.pop(0)\n",
    "\n",
    "# get the images and steering values\n",
    "center_images = []\n",
    "left_images = []\n",
    "right_images = []\n",
    "cam_images = []\n",
    "steering_angles = []\n",
    "for line in lines:\n",
    "    # get the file path\n",
    "    center_source_path = line[0]\n",
    "    left_source_path = line[1]\n",
    "    right_source_path = line[2]\n",
    "    steering_angle = float(line[3])\n",
    "    # get the images\n",
    "    center_filename = center_source_path.split('/')[-1]\n",
    "    left_filename = left_source_path.split('/')[-1]\n",
    "    right_filename = right_source_path.split('/')[-1]\n",
    "    center_current_path = 'data/IMG/'+ center_filename\n",
    "    left_current_path = 'data/IMG/'+ left_filename\n",
    "    right_current_path = 'data/IMG/'+ right_filename\n",
    "    center_image = cv2.imread(center_current_path)\n",
    "    left_image = cv2.imread(left_current_path)\n",
    "    right_image = cv2.imread(right_current_path)\n",
    "    center_images.append(center_image)\n",
    "    left_images.append(left_image)\n",
    "    right_images.append(right_image)\n",
    "    cam_images.extend([center_image, left_image, right_image])\n",
    "    # get the steering values\n",
    "    correction = 0.2\n",
    "    steering_angles.extend([steering_angle, steering_angle+correction, steering_angle-correction])\n",
    "    \n",
    "    \n",
    "X_train = np.array(cam_images)\n",
    "y_train = np.array(steering_angles)\n",
    "\n",
    "print(X_train.shape)\n",
    "print(y_train)"
   ]
  },
  {
   "cell_type": "code",
   "execution_count": 2,
   "metadata": {
    "scrolled": false
   },
   "outputs": [
    {
     "name": "stdout",
     "output_type": "stream",
     "text": [
      "7\n",
      "2\n",
      "[['IMG/center_2016_12_01_13_31_13_279.jpg', ' IMG/left_2016_12_01_13_31_13_279.jpg', ' IMG/right_2016_12_01_13_31_13_279.jpg', '0', '0', '0', '1.403993'], ['IMG/center_2016_12_01_13_31_12_937.jpg', ' IMG/left_2016_12_01_13_31_12_937.jpg', ' IMG/right_2016_12_01_13_31_12_937.jpg', '0', '0', '0', '1.453011']]\n",
      "(9, 66, 200, 3)\n",
      "(9,)\n"
     ]
    }
   ],
   "source": [
    "import model\n",
    "samples_train, samples_valid = model.get_samples()\n",
    "\n",
    "print(len(samples_train))\n",
    "print(len(samples_valid))\n",
    "print(samples_valid)\n",
    "\n",
    "X_train, y_train = next(model.batch_generator(samples_train, 3))\n",
    "\n",
    "print(X_train.shape)\n",
    "print(y_train.shape)\n"
   ]
  },
  {
   "cell_type": "code",
   "execution_count": null,
   "metadata": {
    "collapsed": true
   },
   "outputs": [],
   "source": [
    "# Image Processing Example\n",
    "\n",
    "image=cam_images[0]\n",
    "cv2.imwrite('report images/origin.jpg', image)\n",
    "\n",
    "# Cropping\n",
    "image_crop=image[65:140, 0:320]\n",
    "cv2.imwrite('report images/crop.jpg', image_crop)\n",
    "print(image_crop.shape)\n",
    "\n",
    "# Resize\n",
    "image_resize=cv2.resize(image_crop, (200, 66), cv2.INTER_AREA)\n",
    "cv2.imwrite('report images/resize.jpg', image_resize)\n",
    "print(image_resize.shape)"
   ]
  },
  {
   "cell_type": "code",
   "execution_count": 16,
   "metadata": {},
   "outputs": [
    {
     "name": "stdout",
     "output_type": "stream",
     "text": [
      "(75, 320, 3)\n",
      "(66, 200, 3)\n"
     ]
    }
   ],
   "source": []
  },
  {
   "cell_type": "code",
   "execution_count": null,
   "metadata": {
    "collapsed": true,
    "scrolled": true
   },
   "outputs": [],
   "source": [
    "#Model\n",
    "\n",
    "import tensorflow as tf\n",
    "tf.python.control_flow_ops = tf\n",
    "# Initial Setup for Keras\n",
    "from keras.models import Sequential\n",
    "from keras.layers.core import Dense, Activation, Flatten, Cropping2D, Lambda\n",
    "\n",
    "model=Sequential()\n",
    "# cropping layer: crop image\n",
    "model.add(Cropping2D(cropping=((65,20), (0,0))))\n",
    "# lambda layer: normalize image data and \n",
    "model.add(Lambda(lambda x: (x / 255.0) - 0.5))\n",
    "\n"
   ]
  },
  {
   "cell_type": "code",
   "execution_count": 2,
   "metadata": {
    "scrolled": true
   },
   "outputs": [
    {
     "name": "stdout",
     "output_type": "stream",
     "text": [
      "(384, 66, 200, 3)\n",
      "(384,)\n"
     ]
    }
   ],
   "source": [
    "import model\n",
    "import numpy as np\n",
    "X_train, y_train = next(model.train_generator)\n",
    "print(X_train.shape)\n",
    "print(y_train.shape)"
   ]
  },
  {
   "cell_type": "code",
   "execution_count": 1,
   "metadata": {
    "scrolled": true
   },
   "outputs": [
    {
     "name": "stderr",
     "output_type": "stream",
     "text": [
      "Using TensorFlow backend.\n"
     ]
    },
    {
     "name": "stdout",
     "output_type": "stream",
     "text": [
      "Epoch 1/10\n",
      "32514/32514 [==============================] - 48s - loss: 0.0430 - val_loss: 0.0294\n",
      "Epoch 2/10\n",
      "32514/32514 [==============================] - 43s - loss: 0.0296 - val_loss: 0.0269\n",
      "Epoch 3/10\n",
      "32514/32514 [==============================] - 44s - loss: 0.0277 - val_loss: 0.0262\n",
      "Epoch 4/10\n",
      "32514/32514 [==============================] - 43s - loss: 0.0268 - val_loss: 0.0266\n",
      "Epoch 5/10\n",
      "32514/32514 [==============================] - 44s - loss: 0.0261 - val_loss: 0.0258\n",
      "Epoch 6/10\n",
      "32514/32514 [==============================] - 43s - loss: 0.0255 - val_loss: 0.0254\n",
      "Epoch 7/10\n",
      "32514/32514 [==============================] - 44s - loss: 0.0249 - val_loss: 0.0260\n",
      "Epoch 8/10\n",
      "32514/32514 [==============================] - 44s - loss: 0.0244 - val_loss: 0.0251\n",
      "Epoch 9/10\n",
      "32514/32514 [==============================] - 44s - loss: 0.0240 - val_loss: 0.0254\n",
      "Epoch 10/10\n",
      "32514/32514 [==============================] - 44s - loss: 0.0236 - val_loss: 0.0256\n"
     ]
    }
   ],
   "source": [
    "import model"
   ]
  },
  {
   "cell_type": "code",
   "execution_count": null,
   "metadata": {
    "collapsed": true
   },
   "outputs": [],
   "source": []
  }
 ],
 "metadata": {
  "kernelspec": {
   "display_name": "Python 3",
   "language": "python",
   "name": "python3"
  },
  "language_info": {
   "codemirror_mode": {
    "name": "ipython",
    "version": 3
   },
   "file_extension": ".py",
   "mimetype": "text/x-python",
   "name": "python",
   "nbconvert_exporter": "python",
   "pygments_lexer": "ipython3",
   "version": "3.5.2"
  },
  "widgets": {
   "state": {},
   "version": "1.1.2"
  }
 },
 "nbformat": 4,
 "nbformat_minor": 2
}
