{
 "cells": [
  {
   "cell_type": "code",
   "execution_count": 1,
   "metadata": {},
   "outputs": [
    {
     "name": "stdout",
     "output_type": "stream",
     "text": [
      "(27, 160, 320, 3)\n",
      "[ 0.   0.2 -0.2  0.   0.2 -0.2  0.   0.2 -0.2  0.   0.2 -0.2  0.   0.2 -0.2\n",
      "  0.   0.2 -0.2  0.   0.2 -0.2  0.   0.2 -0.2  0.   0.2 -0.2]\n"
     ]
    }
   ],
   "source": [
    "import csv\n",
    "import cv2\n",
    "import numpy as np\n",
    "\n",
    "# read the driving log file\n",
    "lines = []\n",
    "with open('data/driving_log.csv') as csvfile:\n",
    "    reader=csv.reader(csvfile)\n",
    "    for line in reader:\n",
    "        lines.append(line)\n",
    "        \n",
    "# pop out the first row in the csv file\n",
    "lines.pop(0)\n",
    "\n",
    "# get the images and steering values\n",
    "center_images = []\n",
    "left_images = []\n",
    "right_images = []\n",
    "cam_images = []\n",
    "steering_angles = []\n",
    "for line in lines:\n",
    "    # get the file path\n",
    "    center_source_path = line[0]\n",
    "    left_source_path = line[1]\n",
    "    right_source_path = line[2]\n",
    "    steering_angle = float(line[3])\n",
    "    # get the images\n",
    "    center_filename = center_source_path.split('/')[-1]\n",
    "    left_filename = left_source_path.split('/')[-1]\n",
    "    right_filename = right_source_path.split('/')[-1]\n",
    "    center_current_path = 'data/IMG/'+ center_filename\n",
    "    left_current_path = 'data/IMG/'+ left_filename\n",
    "    right_current_path = 'data/IMG/'+ right_filename\n",
    "    center_image = cv2.imread(center_current_path)\n",
    "    left_image = cv2.imread(left_current_path)\n",
    "    right_image = cv2.imread(right_current_path)\n",
    "    center_images.append(center_image)\n",
    "    left_images.append(left_image)\n",
    "    right_images.append(right_image)\n",
    "    cam_images.extend([center_image, left_image, right_image])\n",
    "    # get the steering values\n",
    "    correction = 0.2\n",
    "    steering_angles.extend([steering_angle, steering_angle+correction, steering_angle-correction])\n",
    "    \n",
    "    \n",
    "X_train = np.array(cam_images)\n",
    "y_train = np.array(steering_angles)\n",
    "\n",
    "print(X_train.shape)\n",
    "print(y_train)"
   ]
  },
  {
   "cell_type": "code",
   "execution_count": 2,
   "metadata": {
    "scrolled": false
   },
   "outputs": [
    {
     "name": "stderr",
     "output_type": "stream",
     "text": [
      "Using TensorFlow backend.\n"
     ]
    },
    {
     "name": "stdout",
     "output_type": "stream",
     "text": [
      "Epoch 1/10\n"
     ]
    },
    {
     "name": "stderr",
     "output_type": "stream",
     "text": [
      "Exception in thread Thread-6:\n",
      "Traceback (most recent call last):\n",
      "  File \"C:\\Users\\Yiding\\AppData\\Local\\conda\\conda\\envs\\carnd-term1\\lib\\threading.py\", line 914, in _bootstrap_inner\n",
      "    self.run()\n",
      "  File \"C:\\Users\\Yiding\\AppData\\Local\\conda\\conda\\envs\\carnd-term1\\lib\\threading.py\", line 862, in run\n",
      "    self._target(*self._args, **self._kwargs)\n",
      "  File \"C:\\Users\\Yiding\\AppData\\Local\\conda\\conda\\envs\\carnd-term1\\lib\\site-packages\\keras\\engine\\training.py\", line 429, in data_generator_task\n",
      "    generator_output = next(self._generator)\n",
      "  File \"E:\\Udacity\\Term1\\CarND-Behavioral-Cloning-P3\\model.py\", line 81, in batch_generator\n",
      "    center_image = preprocess(center_image)\n",
      "  File \"E:\\Udacity\\Term1\\CarND-Behavioral-Cloning-P3\\model.py\", line 38, in preprocess\n",
      "    image_crop=image[45:140, :,:]\n",
      "TypeError: 'NoneType' object is not subscriptable\n",
      "\n"
     ]
    },
    {
     "ename": "ValueError",
     "evalue": "output of generator should be a tuple (x, y, sample_weight) or (x, y). Found: None",
     "output_type": "error",
     "traceback": [
      "\u001b[1;31m---------------------------------------------------------------------------\u001b[0m",
      "\u001b[1;31mValueError\u001b[0m                                Traceback (most recent call last)",
      "\u001b[1;32m<ipython-input-2-89d82a28a934>\u001b[0m in \u001b[0;36m<module>\u001b[1;34m()\u001b[0m\n\u001b[1;32m----> 1\u001b[1;33m \u001b[1;32mimport\u001b[0m \u001b[0mmodel\u001b[0m\u001b[1;33m\u001b[0m\u001b[0m\n\u001b[0m\u001b[0;32m      2\u001b[0m \u001b[0msamples_train\u001b[0m\u001b[1;33m,\u001b[0m \u001b[0msamples_valid\u001b[0m \u001b[1;33m=\u001b[0m \u001b[0mmodel\u001b[0m\u001b[1;33m.\u001b[0m\u001b[0mget_samples\u001b[0m\u001b[1;33m(\u001b[0m\u001b[1;33m)\u001b[0m\u001b[1;33m\u001b[0m\u001b[0m\n\u001b[0;32m      3\u001b[0m \u001b[1;33m\u001b[0m\u001b[0m\n\u001b[0;32m      4\u001b[0m \u001b[0mprint\u001b[0m\u001b[1;33m(\u001b[0m\u001b[0mlen\u001b[0m\u001b[1;33m(\u001b[0m\u001b[0msamples_train\u001b[0m\u001b[1;33m)\u001b[0m\u001b[1;33m)\u001b[0m\u001b[1;33m\u001b[0m\u001b[0m\n\u001b[0;32m      5\u001b[0m \u001b[0mprint\u001b[0m\u001b[1;33m(\u001b[0m\u001b[0mlen\u001b[0m\u001b[1;33m(\u001b[0m\u001b[0msamples_valid\u001b[0m\u001b[1;33m)\u001b[0m\u001b[1;33m)\u001b[0m\u001b[1;33m\u001b[0m\u001b[0m\n",
      "\u001b[1;32mE:\\Udacity\\Term1\\CarND-Behavioral-Cloning-P3\\model.py\u001b[0m in \u001b[0;36m<module>\u001b[1;34m()\u001b[0m\n\u001b[0;32m    139\u001b[0m                     \u001b[0mvalidation_data\u001b[0m\u001b[1;33m=\u001b[0m \u001b[0mvalidation_generator\u001b[0m\u001b[1;33m,\u001b[0m\u001b[1;33m\u001b[0m\u001b[0m\n\u001b[0;32m    140\u001b[0m                     \u001b[0mnb_val_samples\u001b[0m \u001b[1;33m=\u001b[0m \u001b[1;36m3\u001b[0m\u001b[1;33m*\u001b[0m\u001b[0mlen\u001b[0m\u001b[1;33m(\u001b[0m\u001b[0msamples_valid\u001b[0m\u001b[1;33m)\u001b[0m\u001b[1;33m,\u001b[0m\u001b[1;33m\u001b[0m\u001b[0m\n\u001b[1;32m--> 141\u001b[1;33m                     nb_epoch=epoch)\n\u001b[0m\u001b[0;32m    142\u001b[0m \u001b[1;33m\u001b[0m\u001b[0m\n\u001b[0;32m    143\u001b[0m \u001b[1;33m\u001b[0m\u001b[0m\n",
      "\u001b[1;32m~\\AppData\\Local\\conda\\conda\\envs\\carnd-term1\\lib\\site-packages\\keras\\models.py\u001b[0m in \u001b[0;36mfit_generator\u001b[1;34m(self, generator, samples_per_epoch, nb_epoch, verbose, callbacks, validation_data, nb_val_samples, class_weight, max_q_size, nb_worker, pickle_safe, initial_epoch, **kwargs)\u001b[0m\n\u001b[0;32m    933\u001b[0m                                         \u001b[0mnb_worker\u001b[0m\u001b[1;33m=\u001b[0m\u001b[0mnb_worker\u001b[0m\u001b[1;33m,\u001b[0m\u001b[1;33m\u001b[0m\u001b[0m\n\u001b[0;32m    934\u001b[0m                                         \u001b[0mpickle_safe\u001b[0m\u001b[1;33m=\u001b[0m\u001b[0mpickle_safe\u001b[0m\u001b[1;33m,\u001b[0m\u001b[1;33m\u001b[0m\u001b[0m\n\u001b[1;32m--> 935\u001b[1;33m                                         initial_epoch=initial_epoch)\n\u001b[0m\u001b[0;32m    936\u001b[0m \u001b[1;33m\u001b[0m\u001b[0m\n\u001b[0;32m    937\u001b[0m     def evaluate_generator(self, generator, val_samples,\n",
      "\u001b[1;32m~\\AppData\\Local\\conda\\conda\\envs\\carnd-term1\\lib\\site-packages\\keras\\engine\\training.py\u001b[0m in \u001b[0;36mfit_generator\u001b[1;34m(self, generator, samples_per_epoch, nb_epoch, verbose, callbacks, validation_data, nb_val_samples, class_weight, max_q_size, nb_worker, pickle_safe, initial_epoch)\u001b[0m\n\u001b[0;32m   1526\u001b[0m                                          \u001b[1;34m'(x, y, sample_weight) '\u001b[0m\u001b[1;33m\u001b[0m\u001b[0m\n\u001b[0;32m   1527\u001b[0m                                          \u001b[1;34m'or (x, y). Found: '\u001b[0m \u001b[1;33m+\u001b[0m\u001b[1;33m\u001b[0m\u001b[0m\n\u001b[1;32m-> 1528\u001b[1;33m                                          str(generator_output))\n\u001b[0m\u001b[0;32m   1529\u001b[0m                     \u001b[1;32mif\u001b[0m \u001b[0mlen\u001b[0m\u001b[1;33m(\u001b[0m\u001b[0mgenerator_output\u001b[0m\u001b[1;33m)\u001b[0m \u001b[1;33m==\u001b[0m \u001b[1;36m2\u001b[0m\u001b[1;33m:\u001b[0m\u001b[1;33m\u001b[0m\u001b[0m\n\u001b[0;32m   1530\u001b[0m                         \u001b[0mx\u001b[0m\u001b[1;33m,\u001b[0m \u001b[0my\u001b[0m \u001b[1;33m=\u001b[0m \u001b[0mgenerator_output\u001b[0m\u001b[1;33m\u001b[0m\u001b[0m\n",
      "\u001b[1;31mValueError\u001b[0m: output of generator should be a tuple (x, y, sample_weight) or (x, y). Found: None"
     ]
    }
   ],
   "source": [
    "import model\n",
    "samples_train, samples_valid = model.get_samples()\n",
    "\n",
    "print(len(samples_train))\n",
    "print(len(samples_valid))\n",
    "print(samples_valid)\n",
    "\n",
    "X_train, y_train = next(model.batch_generator(samples_train, 3))\n",
    "\n",
    "print(X_train.shape)\n",
    "print(y_train.shape)\n"
   ]
  },
  {
   "cell_type": "code",
   "execution_count": 4,
   "metadata": {},
   "outputs": [
    {
     "name": "stdout",
     "output_type": "stream",
     "text": [
      "(85, 320, 3)\n",
      "(66, 200, 3)\n"
     ]
    }
   ],
   "source": [
    "# Image Processing Example\n",
    "\n",
    "image=cam_images[0]\n",
    "cv2.imwrite('pictures/origin.jpg', image)\n",
    "\n",
    "# Cropping\n",
    "image_crop=image[55:140, 0:320]\n",
    "cv2.imwrite('pictures/crop.jpg', image_crop)\n",
    "print(image_crop.shape)\n",
    "\n",
    "# Resize\n",
    "image_resize=cv2.resize(image_crop, (200, 66), cv2.INTER_AREA)\n",
    "cv2.imwrite('pictures/resize.jpg', image_resize)\n",
    "print(image_resize.shape)"
   ]
  },
  {
   "cell_type": "code",
   "execution_count": 16,
   "metadata": {},
   "outputs": [
    {
     "name": "stdout",
     "output_type": "stream",
     "text": [
      "(75, 320, 3)\n",
      "(66, 200, 3)\n"
     ]
    }
   ],
   "source": []
  },
  {
   "cell_type": "code",
   "execution_count": null,
   "metadata": {
    "collapsed": true,
    "scrolled": true
   },
   "outputs": [],
   "source": [
    "#Model\n",
    "\n",
    "import tensorflow as tf\n",
    "tf.python.control_flow_ops = tf\n",
    "# Initial Setup for Keras\n",
    "from keras.models import Sequential\n",
    "from keras.layers.core import Dense, Activation, Flatten, Cropping2D, Lambda\n",
    "\n",
    "model=Sequential()\n",
    "# cropping layer: crop image\n",
    "model.add(Cropping2D(cropping=((65,20), (0,0))))\n",
    "# lambda layer: normalize image data and \n",
    "model.add(Lambda(lambda x: (x / 255.0) - 0.5))\n",
    "\n"
   ]
  },
  {
   "cell_type": "code",
   "execution_count": 2,
   "metadata": {
    "scrolled": true
   },
   "outputs": [
    {
     "name": "stdout",
     "output_type": "stream",
     "text": [
      "(384, 66, 200, 3)\n",
      "(384,)\n"
     ]
    }
   ],
   "source": [
    "import model\n",
    "import numpy as np\n",
    "X_train, y_train = next(model.train_generator)\n",
    "print(X_train.shape)\n",
    "print(y_train.shape)"
   ]
  },
  {
   "cell_type": "code",
   "execution_count": 1,
   "metadata": {
    "scrolled": true
   },
   "outputs": [
    {
     "name": "stderr",
     "output_type": "stream",
     "text": [
      "Using TensorFlow backend.\n"
     ]
    },
    {
     "name": "stdout",
     "output_type": "stream",
     "text": [
      "Epoch 1/10\n",
      "32514/32514 [==============================] - 52s - loss: 0.0506 - val_loss: 0.0374\n",
      "Epoch 2/10\n",
      "32514/32514 [==============================] - 47s - loss: 0.0383 - val_loss: 0.0339\n",
      "Epoch 3/10\n",
      "32514/32514 [==============================] - 47s - loss: 0.0345 - val_loss: 0.0321\n",
      "Epoch 4/10\n",
      "32514/32514 [==============================] - 47s - loss: 0.0326 - val_loss: 0.0312\n",
      "Epoch 5/10\n",
      "32514/32514 [==============================] - 47s - loss: 0.0313 - val_loss: 0.0304\n",
      "Epoch 6/10\n",
      "32514/32514 [==============================] - 47s - loss: 0.0302 - val_loss: 0.0297\n",
      "Epoch 7/10\n",
      "32514/32514 [==============================] - 47s - loss: 0.0295 - val_loss: 0.0293\n",
      "Epoch 8/10\n",
      "32514/32514 [==============================] - 47s - loss: 0.0287 - val_loss: 0.0287\n",
      "Epoch 9/10\n",
      "32514/32514 [==============================] - 47s - loss: 0.0283 - val_loss: 0.0284\n",
      "Epoch 10/10\n",
      "32514/32514 [==============================] - 47s - loss: 0.0279 - val_loss: 0.0281\n"
     ]
    }
   ],
   "source": [
    "import model"
   ]
  },
  {
   "cell_type": "code",
   "execution_count": null,
   "metadata": {
    "collapsed": true
   },
   "outputs": [],
   "source": []
  }
 ],
 "metadata": {
  "kernelspec": {
   "display_name": "Python 3",
   "language": "python",
   "name": "python3"
  },
  "language_info": {
   "codemirror_mode": {
    "name": "ipython",
    "version": 3
   },
   "file_extension": ".py",
   "mimetype": "text/x-python",
   "name": "python",
   "nbconvert_exporter": "python",
   "pygments_lexer": "ipython3",
   "version": "3.5.2"
  },
  "widgets": {
   "state": {},
   "version": "1.1.2"
  }
 },
 "nbformat": 4,
 "nbformat_minor": 2
}
